{
 "cells": [
  {
   "cell_type": "code",
   "execution_count": 2,
   "metadata": {},
   "outputs": [],
   "source": [
    "import pickle\n",
    "\n",
    "from dataset import NewsDataset\n",
    "from model import DistilBertForSequenceClassification\n",
    "\n",
    "from smooth_gradient import SmoothGradient\n",
    "from integrated_gradient import IntegratedGradient\n",
    "\n",
    "from transformers import (\n",
    "    AutoConfig,\n",
    "    AutoModelForTokenClassification,\n",
    "    AutoTokenizer,\n",
    "    EvalPrediction,\n",
    "    HfArgumentParser,\n",
    "    Trainer,\n",
    "    TrainingArguments,\n",
    "    set_seed,\n",
    ")\n",
    "\n",
    "import torch\n",
    "from torch import nn\n",
    "from torch.utils.data import DataLoader\n",
    "from transformers import DistilBertConfig, DistilBertTokenizer\n",
    "\n",
    "from IPython.display import display, HTML"
   ]
  },
  {
   "cell_type": "code",
   "execution_count": 6,
   "metadata": {},
   "outputs": [
    {
     "name": "stderr",
     "output_type": "stream",
     "text": [
      "Some weights of the model checkpoint at bert-base-cased were not used when initializing BertForTokenClassification: ['cls.predictions.bias', 'cls.predictions.transform.dense.weight', 'cls.predictions.transform.dense.bias', 'cls.predictions.decoder.weight', 'cls.seq_relationship.weight', 'cls.seq_relationship.bias', 'cls.predictions.transform.LayerNorm.weight', 'cls.predictions.transform.LayerNorm.bias']\n",
      "- This IS expected if you are initializing BertForTokenClassification from the checkpoint of a model trained on another task or with another architecture (e.g. initializing a BertForSequenceClassification model from a BertForPretraining model).\n",
      "- This IS NOT expected if you are initializing BertForTokenClassification from the checkpoint of a model that you expect to be exactly identical (initializing a BertForSequenceClassification model from a BertForSequenceClassification model).\n",
      "Some weights of BertForTokenClassification were not initialized from the model checkpoint at bert-base-cased and are newly initialized: ['classifier.weight', 'classifier.bias']\n",
      "You should probably TRAIN this model on a down-stream task to be able to use it for predictions and inference.\n"
     ]
    }
   ],
   "source": [
    "config = AutoConfig.from_pretrained(\"bert-base-cased\", num_labels=93)\n",
    "tokenizer = AutoTokenizer.from_pretrained(\"bert-base-cased\")\n",
    "model = AutoModelForTokenClassification.from_pretrained(\"bert-base-cased\",\n",
    "            from_tf=bool(\".ckpt\" in \"bert-base-cased\"),\n",
    "            config=config)\n",
    "\n",
    "criterion = nn.CrossEntropyLoss()\n",
    "batch_size = 1"
   ]
  },
  {
   "cell_type": "code",
   "execution_count": 9,
   "metadata": {},
   "outputs": [
    {
     "name": "stderr",
     "output_type": "stream",
     "text": [
      "100%|██████████| 1/1 [00:13<00:00, 13.43s/it]\n"
     ]
    }
   ],
   "source": [
    "test_example = [\n",
    "        [\"Interpretation of HuggingFase's model decision\"], \n",
    "        [\"Transformer-based models have taken a leading role \"\n",
    "        \"in NLP today.\"]\n",
    "]\n",
    "\n",
    "test_dataset = NewsDataset(\n",
    "    data_list=test_example,\n",
    "    tokenizer=tokenizer,\n",
    "    max_length=config.max_position_embeddings, \n",
    ")\n",
    "test_dataloader = DataLoader(\n",
    "    test_dataset,\n",
    "    batch_size=batch_size,\n",
    "    shuffle=False,\n",
    ")\n",
    "integrated_grad = IntegratedGradient(\n",
    "    model, \n",
    "    criterion, \n",
    "    tokenizer, \n",
    "    show_progress=True,\n",
    "    encoder=\"bert\"\n",
    ")\n",
    "smooth_grad = SmoothGradient(\n",
    "    model,\n",
    "    criterion,\n",
    "    tokenizer,\n",
    "    show_progrss=True,\n",
    "    encoder=\"bert\"\n",
    ")\n",
    "\n",
    "# instances = integrated_grad.saliency_interpret(test_dataloader)\n",
    "instances = smooth_grad.saliency_interpret(test_dataloader)\n",
    "coloder_string = integrated_grad.colorize(instances[0])"
   ]
  },
  {
   "cell_type": "code",
   "execution_count": 10,
   "metadata": {},
   "outputs": [
    {
     "data": {
      "text/html": [
       "<span class=\"barcode\"; style=\"color: black; background-color: #b7d4ea\"> [CLS]</span><span class=\"barcode\"; style=\"color: black; background-color: #d0e1f2\"> Inter</span><span class=\"barcode\"; style=\"color: black; background-color: #94c4df\">p</span><span class=\"barcode\"; style=\"color: black; background-color: #08306b\">reta</span><span class=\"barcode\"; style=\"color: black; background-color: #94c4df\">tion</span><span class=\"barcode\"; style=\"color: black; background-color: #f7fbff\"> of</span><span class=\"barcode\"; style=\"color: black; background-color: #e3eef9\"> Hu</span><span class=\"barcode\"; style=\"color: black; background-color: #d0e1f2\">gging</span><span class=\"barcode\"; style=\"color: black; background-color: #d0e1f2\">F</span><span class=\"barcode\"; style=\"color: black; background-color: #d0e1f2\">ase</span><span class=\"barcode\"; style=\"color: black; background-color: #f7fbff\"> '</span><span class=\"barcode\"; style=\"color: black; background-color: #e3eef9\"> s</span><span class=\"barcode\"; style=\"color: black; background-color: #e8f1fa\"> model</span><span class=\"barcode\"; style=\"color: black; background-color: #1764ab\"> decision</span><span class=\"barcode\"; style=\"color: black; background-color: #b7d4ea\"> [SEP]</span><span class=\"barcode\"; style=\"color: black; background-color: #deebf7\"> Trans</span><span class=\"barcode\"; style=\"color: black; background-color: #94c4df\">former</span><span class=\"barcode\"; style=\"color: black; background-color: #d0e1f2\"> -</span><span class=\"barcode\"; style=\"color: black; background-color: #6aaed6\"> based</span><span class=\"barcode\"; style=\"color: black; background-color: #deebf7\"> models</span><span class=\"barcode\"; style=\"color: black; background-color: #e3eef9\"> have</span><span class=\"barcode\"; style=\"color: black; background-color: #f7fbff\"> taken</span><span class=\"barcode\"; style=\"color: black; background-color: #d0e1f2\"> a</span><span class=\"barcode\"; style=\"color: black; background-color: #e3eef9\"> leading</span><span class=\"barcode\"; style=\"color: black; background-color: #c6dbef\"> role</span><span class=\"barcode\"; style=\"color: black; background-color: #f7fbff\"> in</span><span class=\"barcode\"; style=\"color: black; background-color: #d0e1f2\"> NL</span><span class=\"barcode\"; style=\"color: black; background-color: #f7fbff\">P</span><span class=\"barcode\"; style=\"color: black; background-color: #eef5fc\"> today</span><span class=\"barcode\"; style=\"color: black; background-color: #d0e1f2\"> .</span><span class=\"barcode\"; style=\"color: black; background-color: #d0e1f2\"> [SEP]</span><span class=\"barcode\"; style=\"color: black; background-color: 0\">    Label: [56, 56, 83, 83, 83, 83, 83, 83, 83, 83, 83, 83, 83, 56, 53, 52, 83, 83, 83, 83, 83, 83, 83, 83, 90, 83, 90, 83, 83, 53, 53] |</span><span class=\"barcode\"; style=\"color: black; background-color: #f3faf0\">2.23%</span><span class=\"barcode\"; style=\"color: black; background-color: #f3faf0\">2.83%</span><span class=\"barcode\"; style=\"color: black; background-color: #f3faf0\">3.24%</span><span class=\"barcode\"; style=\"color: black; background-color: #f3faf0\">2.37%</span><span class=\"barcode\"; style=\"color: black; background-color: #f3faf0\">2.45%</span><span class=\"barcode\"; style=\"color: black; background-color: #f3faf0\">2.65%</span><span class=\"barcode\"; style=\"color: black; background-color: #f3faf0\">2.27%</span><span class=\"barcode\"; style=\"color: black; background-color: #f3faf0\">1.96%</span><span class=\"barcode\"; style=\"color: black; background-color: #f3faf0\">3.80%</span><span class=\"barcode\"; style=\"color: black; background-color: #f3faf0\">1.86%</span><span class=\"barcode\"; style=\"color: black; background-color: #f3faf0\">2.58%</span><span class=\"barcode\"; style=\"color: black; background-color: #f3faf0\">2.27%</span><span class=\"barcode\"; style=\"color: black; background-color: #f3faf0\">2.25%</span><span class=\"barcode\"; style=\"color: black; background-color: #f3faf0\">1.94%</span><span class=\"barcode\"; style=\"color: black; background-color: #f3faf0\">2.88%</span><span class=\"barcode\"; style=\"color: black; background-color: #f3faf0\">2.61%</span><span class=\"barcode\"; style=\"color: black; background-color: #f3faf0\">2.05%</span><span class=\"barcode\"; style=\"color: black; background-color: #f3faf0\">2.86%</span><span class=\"barcode\"; style=\"color: black; background-color: #f3faf0\">2.58%</span><span class=\"barcode\"; style=\"color: black; background-color: #f3faf0\">2.21%</span><span class=\"barcode\"; style=\"color: black; background-color: #f3faf0\">2.84%</span><span class=\"barcode\"; style=\"color: black; background-color: #f3faf0\">2.18%</span><span class=\"barcode\"; style=\"color: black; background-color: #f3faf0\">2.43%</span><span class=\"barcode\"; style=\"color: black; background-color: #f3faf0\">2.15%</span><span class=\"barcode\"; style=\"color: black; background-color: #f3faf0\">1.94%</span><span class=\"barcode\"; style=\"color: black; background-color: #f3faf0\">2.49%</span><span class=\"barcode\"; style=\"color: black; background-color: #f3faf0\">1.90%</span><span class=\"barcode\"; style=\"color: black; background-color: #f3faf0\">2.61%</span><span class=\"barcode\"; style=\"color: black; background-color: #f3faf0\">2.26%</span><span class=\"barcode\"; style=\"color: black; background-color: #f3faf0\">2.78%</span><span class=\"barcode\"; style=\"color: black; background-color: #f3faf0\">2.88%</span>|"
      ],
      "text/plain": [
       "<IPython.core.display.HTML object>"
      ]
     },
     "metadata": {},
     "output_type": "display_data"
    }
   ],
   "source": [
    "display(HTML(coloder_string))"
   ]
  },
  {
   "cell_type": "code",
   "execution_count": null,
   "metadata": {},
   "outputs": [],
   "source": []
  }
 ],
 "metadata": {
  "kernelspec": {
   "display_name": "biobert-pytorch",
   "language": "python",
   "name": "biobert-pytorch"
  },
  "language_info": {
   "codemirror_mode": {
    "name": "ipython",
    "version": 3
   },
   "file_extension": ".py",
   "mimetype": "text/x-python",
   "name": "python",
   "nbconvert_exporter": "python",
   "pygments_lexer": "ipython3",
   "version": "3.7.7"
  }
 },
 "nbformat": 4,
 "nbformat_minor": 4
}
